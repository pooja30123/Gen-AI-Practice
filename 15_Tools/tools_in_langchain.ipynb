{
 "cells": [
  {
   "cell_type": "markdown",
   "id": "3c19e56d",
   "metadata": {},
   "source": [
    "# Built-in-Tool-DuckDuckGoSearch"
   ]
  },
  {
   "cell_type": "code",
   "execution_count": 1,
   "id": "0df0e766",
   "metadata": {},
   "outputs": [
    {
     "name": "stdout",
     "output_type": "stream",
     "text": [
      "Here are the top 5 stories that made headlines today: Passengers alarmed as aircraft door shakes and hisses during flight to Hong Kong Passengers aboard an Air India Boeing 787 from Delhi to Hong ... India News | Latest India News | Read latest and breaking news from India. Today's top India news headlines, news on Indian politics, elections, government, business, technology, and Bollywood. Get updated with current top news stories from India and the world only on Zee News. Zee News brings latest news from India and World on breaking news, today news headlines, politics, business, technology, bollywood, entertainment, sports and others. Find exclusive news stories on Indian politics, current affairs, cricket matches, festivals and ... Stay informed with breaking news and latest news on politics, business, entertainment sports, science, technology along with news updates from around the world. India category Walmart-backed PhonePe prepares for $1.5 billion India IPO, Bloomberg News reports. 7:19 AM UTC · Updated ago. India category Gold eases as dollar firms, all eyes on Iran's next move.\n"
     ]
    }
   ],
   "source": [
    "from langchain_community.tools import DuckDuckGoSearchRun\n",
    "\n",
    "search_tool = DuckDuckGoSearchRun()\n",
    "\n",
    "result = search_tool.invoke(\"What is today top 5 news in India\")\n",
    "\n",
    "print(result)"
   ]
  },
  {
   "cell_type": "markdown",
   "id": "c1613f61",
   "metadata": {},
   "source": [
    "# Built-in-Tool-Sell-Tool"
   ]
  },
  {
   "cell_type": "code",
   "execution_count": 1,
   "id": "79f6107f",
   "metadata": {},
   "outputs": [
    {
     "name": "stdout",
     "output_type": "stream",
     "text": [
      "Executing command:\n",
      " genai_env\n",
      "'genai_env' is not recognized as an internal or external command,\n",
      "operable program or batch file.\n",
      "\n"
     ]
    },
    {
     "name": "stderr",
     "output_type": "stream",
     "text": [
      "c:\\Coding\\Gen AI CampusX\\genai_env\\Lib\\site-packages\\langchain_community\\tools\\shell\\tool.py:33: UserWarning: The shell tool has no safeguards by default. Use at your own risk.\n",
      "  warnings.warn(\n"
     ]
    }
   ],
   "source": [
    "from langchain_community.tools import ShellTool\n",
    "\n",
    "shell_tool = ShellTool()\n",
    "\n",
    "result = shell_tool.invoke(\"genai_env\")\n",
    "\n",
    "print(result)"
   ]
  },
  {
   "cell_type": "markdown",
   "id": "fd8e3dd6",
   "metadata": {},
   "source": [
    "# Custom Tools"
   ]
  },
  {
   "cell_type": "code",
   "execution_count": 5,
   "id": "6459b48a",
   "metadata": {},
   "outputs": [],
   "source": [
    "from langchain_core.tools import tool"
   ]
  },
  {
   "cell_type": "code",
   "execution_count": 6,
   "id": "9bf7189e",
   "metadata": {},
   "outputs": [],
   "source": [
    "# step 1 - create function\n",
    "\n",
    "def multiply(a,b):\n",
    "    \"\"\"Multipy two number\"\"\"\n",
    "    return a*b"
   ]
  },
  {
   "cell_type": "code",
   "execution_count": null,
   "id": "97ac6add",
   "metadata": {},
   "outputs": [],
   "source": [
    "# step 2 - add type hints\n",
    "\n",
    "def multiply(a:int, b:int) -> int: \n",
    "    \"\"\"Multipy two number\"\"\"\n",
    "    return a*b"
   ]
  },
  {
   "cell_type": "code",
   "execution_count": 8,
   "id": "66768507",
   "metadata": {},
   "outputs": [],
   "source": [
    "# step 2 - add tool decorator\n",
    "\n",
    "@tool\n",
    "def multiply(a:int, b:int) -> int: \n",
    "    \"\"\"Multipy two number\"\"\"\n",
    "    return a*b"
   ]
  },
  {
   "cell_type": "code",
   "execution_count": 11,
   "id": "eb92921b",
   "metadata": {},
   "outputs": [
    {
     "name": "stdout",
     "output_type": "stream",
     "text": [
      "18\n"
     ]
    }
   ],
   "source": [
    "result = multiply.invoke({\"a\":3,\"b\":6})\n",
    "print(result)"
   ]
  },
  {
   "cell_type": "code",
   "execution_count": 12,
   "id": "f1772b39",
   "metadata": {},
   "outputs": [
    {
     "name": "stdout",
     "output_type": "stream",
     "text": [
      "multiply\n",
      "Multipy two number\n",
      "{'a': {'title': 'A', 'type': 'integer'}, 'b': {'title': 'B', 'type': 'integer'}}\n"
     ]
    }
   ],
   "source": [
    "print(multiply.name)\n",
    "print(multiply.description)\n",
    "print(multiply.args)"
   ]
  },
  {
   "cell_type": "code",
   "execution_count": 13,
   "id": "48d6fb2f",
   "metadata": {},
   "outputs": [
    {
     "name": "stdout",
     "output_type": "stream",
     "text": [
      "duckduckgo_search\n",
      "A wrapper around DuckDuckGo Search. Useful for when you need to answer questions about current events. Input should be a search query.\n",
      "{'query': {'description': 'search query to look up', 'title': 'Query', 'type': 'string'}}\n"
     ]
    }
   ],
   "source": [
    "print(search_tool.name)\n",
    "print(search_tool.description)\n",
    "print(search_tool.args)"
   ]
  },
  {
   "cell_type": "code",
   "execution_count": 14,
   "id": "d04febfb",
   "metadata": {},
   "outputs": [
    {
     "name": "stdout",
     "output_type": "stream",
     "text": [
      "{'description': 'Multipy two number', 'properties': {'a': {'title': 'A', 'type': 'integer'}, 'b': {'title': 'B', 'type': 'integer'}}, 'required': ['a', 'b'], 'title': 'multiply', 'type': 'object'}\n"
     ]
    }
   ],
   "source": [
    "print(multiply.args_schema.model_json_schema())"
   ]
  },
  {
   "cell_type": "markdown",
   "id": "87e3b2f4",
   "metadata": {},
   "source": [
    "# Using Structured Tool"
   ]
  },
  {
   "cell_type": "code",
   "execution_count": 16,
   "id": "94b84208",
   "metadata": {},
   "outputs": [],
   "source": [
    "from langchain.tools import StructuredTool\n",
    "from pydantic import BaseModel,Field"
   ]
  },
  {
   "cell_type": "code",
   "execution_count": 17,
   "id": "6f21d705",
   "metadata": {},
   "outputs": [],
   "source": [
    "class MultiplyInput(BaseModel):\n",
    "    a:int = Field(required=True, description=\"The First number to add\")\n",
    "    b:int = Field(required=True, description=\"The Second number to add\")"
   ]
  },
  {
   "cell_type": "code",
   "execution_count": 18,
   "id": "2fa2d394",
   "metadata": {},
   "outputs": [],
   "source": [
    "def multiply_func(a:int, b:int) -> int:\n",
    "    return a*b"
   ]
  },
  {
   "cell_type": "code",
   "execution_count": 19,
   "id": "7ed99a9d",
   "metadata": {},
   "outputs": [],
   "source": [
    "multiply_tool = StructuredTool.from_function(\n",
    "    func=multiply_func,\n",
    "    name=\"multiply\",\n",
    "    description=\"Multiply two numbers\",\n",
    "    args_schema=MultiplyInput\n",
    ")"
   ]
  },
  {
   "cell_type": "code",
   "execution_count": 22,
   "id": "7954b987",
   "metadata": {},
   "outputs": [
    {
     "data": {
      "text/plain": [
       "15"
      ]
     },
     "execution_count": 22,
     "metadata": {},
     "output_type": "execute_result"
    }
   ],
   "source": [
    "result = multiply_tool.invoke({\"a\":3,\"b\":5})\n",
    "result"
   ]
  },
  {
   "cell_type": "markdown",
   "id": "c1cc6551",
   "metadata": {},
   "source": [
    "# Using BaseTool Class"
   ]
  },
  {
   "cell_type": "code",
   "execution_count": 23,
   "id": "b2501ddf",
   "metadata": {},
   "outputs": [],
   "source": [
    "from langchain.tools import BaseTool\n",
    "from typing import Type"
   ]
  },
  {
   "cell_type": "code",
   "execution_count": 24,
   "id": "46393527",
   "metadata": {},
   "outputs": [],
   "source": [
    "# args schema using pydantic\n",
    "\n",
    "class MultiplyInput(BaseModel):\n",
    "    a:int = Field(required=True, description=\"The First number to add\")\n",
    "    b:int = Field(required=True, description=\"The Second number to add\")"
   ]
  },
  {
   "cell_type": "code",
   "execution_count": 25,
   "id": "c55d523e",
   "metadata": {},
   "outputs": [],
   "source": [
    "class MultiplyTool(BaseTool):\n",
    "    name:str = \"multiply\"\n",
    "    description:str = \"Multiply two numbers\"\n",
    "    args_schema:Type[BaseModel] = MultiplyInput\n",
    "\n",
    "    def _run(self,a:int, b:int) -> int:\n",
    "        return a*b"
   ]
  },
  {
   "cell_type": "code",
   "execution_count": 26,
   "id": "5d2b949e",
   "metadata": {},
   "outputs": [],
   "source": [
    "multiply_tool = MultiplyTool()"
   ]
  },
  {
   "cell_type": "code",
   "execution_count": 28,
   "id": "0d25d667",
   "metadata": {},
   "outputs": [
    {
     "data": {
      "text/plain": [
       "24"
      ]
     },
     "execution_count": 28,
     "metadata": {},
     "output_type": "execute_result"
    }
   ],
   "source": [
    "result = multiply_tool.invoke({\"a\":3,\"b\":8})\n",
    "result"
   ]
  },
  {
   "cell_type": "code",
   "execution_count": 29,
   "id": "1eeeb82d",
   "metadata": {},
   "outputs": [
    {
     "name": "stdout",
     "output_type": "stream",
     "text": [
      "multiply\n",
      "Multiply two numbers\n",
      "{'a': {'description': 'The First number to add', 'required': True, 'title': 'A', 'type': 'integer'}, 'b': {'description': 'The Second number to add', 'required': True, 'title': 'B', 'type': 'integer'}}\n"
     ]
    }
   ],
   "source": [
    "print(multiply_tool.name)\n",
    "print(multiply_tool.description)\n",
    "print(multiply_tool.args)"
   ]
  },
  {
   "cell_type": "markdown",
   "id": "d7dd0960",
   "metadata": {},
   "source": [
    "# Toolkit"
   ]
  },
  {
   "cell_type": "code",
   "execution_count": 30,
   "id": "20c313e4",
   "metadata": {},
   "outputs": [],
   "source": [
    "@tool\n",
    "def add(a:int, b:int) -> int: \n",
    "    \"\"\"Add two number\"\"\"\n",
    "    return a+b\n",
    "\n",
    "@tool\n",
    "def multiply(a:int, b:int) -> int: \n",
    "    \"\"\"Multipy two number\"\"\"\n",
    "    return a*b"
   ]
  },
  {
   "cell_type": "code",
   "execution_count": 31,
   "id": "4cfe5baa",
   "metadata": {},
   "outputs": [],
   "source": [
    "class MathToolkit:\n",
    "    def get_tools(self):\n",
    "        return [add,multiply]"
   ]
  },
  {
   "cell_type": "code",
   "execution_count": 32,
   "id": "5be1de6f",
   "metadata": {},
   "outputs": [],
   "source": [
    "toolkit = MathToolkit()"
   ]
  },
  {
   "cell_type": "code",
   "execution_count": 33,
   "id": "1a471aa2",
   "metadata": {},
   "outputs": [],
   "source": [
    "tools = toolkit.get_tools()"
   ]
  },
  {
   "cell_type": "code",
   "execution_count": null,
   "id": "64cc09c6",
   "metadata": {},
   "outputs": [
    {
     "name": "stdout",
     "output_type": "stream",
     "text": [
      "add => Add two number\n",
      "multiply => Multipy two number\n"
     ]
    }
   ],
   "source": [
    "for tool in tools:\n",
    "    print(tool.name,\"=>\",tool.description                   )"
   ]
  },
  {
   "cell_type": "code",
   "execution_count": null,
   "id": "bc605c23",
   "metadata": {},
   "outputs": [],
   "source": []
  }
 ],
 "metadata": {
  "kernelspec": {
   "display_name": "genai_env",
   "language": "python",
   "name": "python3"
  },
  "language_info": {
   "codemirror_mode": {
    "name": "ipython",
    "version": 3
   },
   "file_extension": ".py",
   "mimetype": "text/x-python",
   "name": "python",
   "nbconvert_exporter": "python",
   "pygments_lexer": "ipython3",
   "version": "3.12.7"
  }
 },
 "nbformat": 4,
 "nbformat_minor": 5
}
